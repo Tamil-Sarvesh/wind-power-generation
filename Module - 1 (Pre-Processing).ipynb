{
 "cells": [
  {
   "cell_type": "code",
   "execution_count": 24,
   "metadata": {},
   "outputs": [],
   "source": [
    "# Data Pre-Processing"
   ]
  },
  {
   "cell_type": "code",
   "execution_count": 25,
   "metadata": {},
   "outputs": [],
   "source": [
    "import pandas as pd\n",
    "import numpy as np"
   ]
  },
  {
   "cell_type": "code",
   "execution_count": 26,
   "metadata": {},
   "outputs": [],
   "source": [
    "import warnings\n",
    "warnings.filterwarnings('ignore')"
   ]
  },
  {
   "cell_type": "code",
   "execution_count": 27,
   "metadata": {},
   "outputs": [],
   "source": [
    "data=pd.read_csv('TexasTurbine.csv')"
   ]
  },
  {
   "cell_type": "code",
   "execution_count": 28,
   "metadata": {},
   "outputs": [
    {
     "data": {
      "text/html": [
       "<div>\n",
       "<style scoped>\n",
       "    .dataframe tbody tr th:only-of-type {\n",
       "        vertical-align: middle;\n",
       "    }\n",
       "\n",
       "    .dataframe tbody tr th {\n",
       "        vertical-align: top;\n",
       "    }\n",
       "\n",
       "    .dataframe thead th {\n",
       "        text-align: right;\n",
       "    }\n",
       "</style>\n",
       "<table border=\"1\" class=\"dataframe\">\n",
       "  <thead>\n",
       "    <tr style=\"text-align: right;\">\n",
       "      <th></th>\n",
       "      <th>Time stamp</th>\n",
       "      <th>System power generated | (kW)</th>\n",
       "      <th>Wind speed | (m/s)</th>\n",
       "      <th>Wind direction | (deg)</th>\n",
       "      <th>Pressure | (atm)</th>\n",
       "      <th>Air temperature | ('C)</th>\n",
       "    </tr>\n",
       "  </thead>\n",
       "  <tbody>\n",
       "    <tr>\n",
       "      <th>0</th>\n",
       "      <td>Jan 1, 12:00 am</td>\n",
       "      <td>1766.64</td>\n",
       "      <td>9.926</td>\n",
       "      <td>128</td>\n",
       "      <td>1.000480</td>\n",
       "      <td>18.263</td>\n",
       "    </tr>\n",
       "    <tr>\n",
       "      <th>1</th>\n",
       "      <td>Jan 1, 01:00 am</td>\n",
       "      <td>1433.83</td>\n",
       "      <td>9.273</td>\n",
       "      <td>135</td>\n",
       "      <td>0.999790</td>\n",
       "      <td>18.363</td>\n",
       "    </tr>\n",
       "    <tr>\n",
       "      <th>2</th>\n",
       "      <td>Jan 1, 02:00 am</td>\n",
       "      <td>1167.23</td>\n",
       "      <td>8.660</td>\n",
       "      <td>142</td>\n",
       "      <td>0.999592</td>\n",
       "      <td>18.663</td>\n",
       "    </tr>\n",
       "    <tr>\n",
       "      <th>3</th>\n",
       "      <td>Jan 1, 03:00 am</td>\n",
       "      <td>1524.59</td>\n",
       "      <td>9.461</td>\n",
       "      <td>148</td>\n",
       "      <td>0.998309</td>\n",
       "      <td>18.763</td>\n",
       "    </tr>\n",
       "    <tr>\n",
       "      <th>4</th>\n",
       "      <td>Jan 1, 04:00 am</td>\n",
       "      <td>1384.28</td>\n",
       "      <td>9.184</td>\n",
       "      <td>150</td>\n",
       "      <td>0.998507</td>\n",
       "      <td>18.963</td>\n",
       "    </tr>\n",
       "  </tbody>\n",
       "</table>\n",
       "</div>"
      ],
      "text/plain": [
       "        Time stamp  System power generated | (kW)  Wind speed | (m/s)  \\\n",
       "0  Jan 1, 12:00 am                        1766.64               9.926   \n",
       "1  Jan 1, 01:00 am                        1433.83               9.273   \n",
       "2  Jan 1, 02:00 am                        1167.23               8.660   \n",
       "3  Jan 1, 03:00 am                        1524.59               9.461   \n",
       "4  Jan 1, 04:00 am                        1384.28               9.184   \n",
       "\n",
       "   Wind direction | (deg)  Pressure | (atm)  Air temperature | ('C)  \n",
       "0                     128          1.000480                  18.263  \n",
       "1                     135          0.999790                  18.363  \n",
       "2                     142          0.999592                  18.663  \n",
       "3                     148          0.998309                  18.763  \n",
       "4                     150          0.998507                  18.963  "
      ]
     },
     "execution_count": 28,
     "metadata": {},
     "output_type": "execute_result"
    }
   ],
   "source": [
    "data.head()"
   ]
  },
  {
   "cell_type": "code",
   "execution_count": 29,
   "metadata": {},
   "outputs": [
    {
     "data": {
      "text/plain": [
       "(8760, 6)"
      ]
     },
     "execution_count": 29,
     "metadata": {},
     "output_type": "execute_result"
    }
   ],
   "source": [
    "data.shape"
   ]
  },
  {
   "cell_type": "code",
   "execution_count": 30,
   "metadata": {},
   "outputs": [
    {
     "data": {
      "text/plain": [
       "52560"
      ]
     },
     "execution_count": 30,
     "metadata": {},
     "output_type": "execute_result"
    }
   ],
   "source": [
    "data.size"
   ]
  },
  {
   "cell_type": "code",
   "execution_count": 31,
   "metadata": {},
   "outputs": [],
   "source": [
    "df=data.dropna()"
   ]
  },
  {
   "cell_type": "code",
   "execution_count": 32,
   "metadata": {},
   "outputs": [
    {
     "data": {
      "text/plain": [
       "Index(['Time stamp', 'System power generated | (kW)', 'Wind speed | (m/s)',\n",
       "       'Wind direction | (deg)', 'Pressure | (atm)', 'Air temperature | ('C)'],\n",
       "      dtype='object')"
      ]
     },
     "execution_count": 32,
     "metadata": {},
     "output_type": "execute_result"
    }
   ],
   "source": [
    "df.columns"
   ]
  },
  {
   "cell_type": "code",
   "execution_count": 33,
   "metadata": {},
   "outputs": [
    {
     "data": {
      "text/html": [
       "<div>\n",
       "<style scoped>\n",
       "    .dataframe tbody tr th:only-of-type {\n",
       "        vertical-align: middle;\n",
       "    }\n",
       "\n",
       "    .dataframe tbody tr th {\n",
       "        vertical-align: top;\n",
       "    }\n",
       "\n",
       "    .dataframe thead th {\n",
       "        text-align: right;\n",
       "    }\n",
       "</style>\n",
       "<table border=\"1\" class=\"dataframe\">\n",
       "  <thead>\n",
       "    <tr style=\"text-align: right;\">\n",
       "      <th></th>\n",
       "      <th>Time stamp</th>\n",
       "      <th>System power generated | (kW)</th>\n",
       "      <th>Wind speed | (m/s)</th>\n",
       "      <th>Wind direction | (deg)</th>\n",
       "      <th>Pressure | (atm)</th>\n",
       "      <th>Air temperature | ('C)</th>\n",
       "    </tr>\n",
       "  </thead>\n",
       "  <tbody>\n",
       "    <tr>\n",
       "      <th>8755</th>\n",
       "      <td>Dec 31, 07:00 pm</td>\n",
       "      <td>1234.70</td>\n",
       "      <td>8.848</td>\n",
       "      <td>129</td>\n",
       "      <td>0.998604</td>\n",
       "      <td>19.663</td>\n",
       "    </tr>\n",
       "    <tr>\n",
       "      <th>8756</th>\n",
       "      <td>Dec 31, 08:00 pm</td>\n",
       "      <td>1105.37</td>\n",
       "      <td>8.502</td>\n",
       "      <td>118</td>\n",
       "      <td>1.000090</td>\n",
       "      <td>19.063</td>\n",
       "    </tr>\n",
       "    <tr>\n",
       "      <th>8757</th>\n",
       "      <td>Dec 31, 09:00 pm</td>\n",
       "      <td>1405.71</td>\n",
       "      <td>9.224</td>\n",
       "      <td>117</td>\n",
       "      <td>0.998408</td>\n",
       "      <td>18.463</td>\n",
       "    </tr>\n",
       "    <tr>\n",
       "      <th>8758</th>\n",
       "      <td>Dec 31, 10:00 pm</td>\n",
       "      <td>1221.36</td>\n",
       "      <td>8.799</td>\n",
       "      <td>116</td>\n",
       "      <td>0.998013</td>\n",
       "      <td>18.063</td>\n",
       "    </tr>\n",
       "    <tr>\n",
       "      <th>8759</th>\n",
       "      <td>Dec 31, 11:00 pm</td>\n",
       "      <td>1676.77</td>\n",
       "      <td>9.748</td>\n",
       "      <td>121</td>\n",
       "      <td>1.000380</td>\n",
       "      <td>18.163</td>\n",
       "    </tr>\n",
       "  </tbody>\n",
       "</table>\n",
       "</div>"
      ],
      "text/plain": [
       "            Time stamp  System power generated | (kW)  Wind speed | (m/s)  \\\n",
       "8755  Dec 31, 07:00 pm                        1234.70               8.848   \n",
       "8756  Dec 31, 08:00 pm                        1105.37               8.502   \n",
       "8757  Dec 31, 09:00 pm                        1405.71               9.224   \n",
       "8758  Dec 31, 10:00 pm                        1221.36               8.799   \n",
       "8759  Dec 31, 11:00 pm                        1676.77               9.748   \n",
       "\n",
       "      Wind direction | (deg)  Pressure | (atm)  Air temperature | ('C)  \n",
       "8755                     129          0.998604                  19.663  \n",
       "8756                     118          1.000090                  19.063  \n",
       "8757                     117          0.998408                  18.463  \n",
       "8758                     116          0.998013                  18.063  \n",
       "8759                     121          1.000380                  18.163  "
      ]
     },
     "execution_count": 33,
     "metadata": {},
     "output_type": "execute_result"
    }
   ],
   "source": [
    "df.tail()"
   ]
  },
  {
   "cell_type": "code",
   "execution_count": 34,
   "metadata": {},
   "outputs": [
    {
     "data": {
      "text/plain": [
       "(8760, 6)"
      ]
     },
     "execution_count": 34,
     "metadata": {},
     "output_type": "execute_result"
    }
   ],
   "source": [
    "df.shape"
   ]
  },
  {
   "cell_type": "code",
   "execution_count": 35,
   "metadata": {},
   "outputs": [
    {
     "data": {
      "text/plain": [
       "52560"
      ]
     },
     "execution_count": 35,
     "metadata": {},
     "output_type": "execute_result"
    }
   ],
   "source": [
    "df.size"
   ]
  },
  {
   "cell_type": "code",
   "execution_count": 36,
   "metadata": {},
   "outputs": [
    {
     "data": {
      "text/html": [
       "<div>\n",
       "<style scoped>\n",
       "    .dataframe tbody tr th:only-of-type {\n",
       "        vertical-align: middle;\n",
       "    }\n",
       "\n",
       "    .dataframe tbody tr th {\n",
       "        vertical-align: top;\n",
       "    }\n",
       "\n",
       "    .dataframe thead th {\n",
       "        text-align: right;\n",
       "    }\n",
       "</style>\n",
       "<table border=\"1\" class=\"dataframe\">\n",
       "  <thead>\n",
       "    <tr style=\"text-align: right;\">\n",
       "      <th></th>\n",
       "      <th>System power generated | (kW)</th>\n",
       "      <th>Wind speed | (m/s)</th>\n",
       "      <th>Wind direction | (deg)</th>\n",
       "      <th>Pressure | (atm)</th>\n",
       "      <th>Air temperature | ('C)</th>\n",
       "    </tr>\n",
       "  </thead>\n",
       "  <tbody>\n",
       "    <tr>\n",
       "      <th>count</th>\n",
       "      <td>8760.000000</td>\n",
       "      <td>8760.000000</td>\n",
       "      <td>8760.000000</td>\n",
       "      <td>8760.000000</td>\n",
       "      <td>8760.000000</td>\n",
       "    </tr>\n",
       "    <tr>\n",
       "      <th>mean</th>\n",
       "      <td>964.467934</td>\n",
       "      <td>7.376120</td>\n",
       "      <td>146.616210</td>\n",
       "      <td>0.992368</td>\n",
       "      <td>22.147298</td>\n",
       "    </tr>\n",
       "    <tr>\n",
       "      <th>std</th>\n",
       "      <td>878.558112</td>\n",
       "      <td>3.138291</td>\n",
       "      <td>84.678754</td>\n",
       "      <td>0.005332</td>\n",
       "      <td>4.855232</td>\n",
       "    </tr>\n",
       "    <tr>\n",
       "      <th>min</th>\n",
       "      <td>0.000000</td>\n",
       "      <td>0.119000</td>\n",
       "      <td>0.000000</td>\n",
       "      <td>0.974514</td>\n",
       "      <td>3.263000</td>\n",
       "    </tr>\n",
       "    <tr>\n",
       "      <th>25%</th>\n",
       "      <td>215.951500</td>\n",
       "      <td>5.121000</td>\n",
       "      <td>99.000000</td>\n",
       "      <td>0.988925</td>\n",
       "      <td>19.463000</td>\n",
       "    </tr>\n",
       "    <tr>\n",
       "      <th>50%</th>\n",
       "      <td>693.968500</td>\n",
       "      <td>7.340500</td>\n",
       "      <td>135.000000</td>\n",
       "      <td>0.991495</td>\n",
       "      <td>22.763000</td>\n",
       "    </tr>\n",
       "    <tr>\n",
       "      <th>75%</th>\n",
       "      <td>1562.287500</td>\n",
       "      <td>9.599000</td>\n",
       "      <td>169.000000</td>\n",
       "      <td>0.995045</td>\n",
       "      <td>26.063000</td>\n",
       "    </tr>\n",
       "    <tr>\n",
       "      <th>max</th>\n",
       "      <td>3004.010000</td>\n",
       "      <td>19.743000</td>\n",
       "      <td>360.000000</td>\n",
       "      <td>1.014510</td>\n",
       "      <td>32.963000</td>\n",
       "    </tr>\n",
       "  </tbody>\n",
       "</table>\n",
       "</div>"
      ],
      "text/plain": [
       "       System power generated | (kW)  Wind speed | (m/s)  \\\n",
       "count                    8760.000000         8760.000000   \n",
       "mean                      964.467934            7.376120   \n",
       "std                       878.558112            3.138291   \n",
       "min                         0.000000            0.119000   \n",
       "25%                       215.951500            5.121000   \n",
       "50%                       693.968500            7.340500   \n",
       "75%                      1562.287500            9.599000   \n",
       "max                      3004.010000           19.743000   \n",
       "\n",
       "       Wind direction | (deg)  Pressure | (atm)  Air temperature | ('C)  \n",
       "count             8760.000000       8760.000000             8760.000000  \n",
       "mean               146.616210          0.992368               22.147298  \n",
       "std                 84.678754          0.005332                4.855232  \n",
       "min                  0.000000          0.974514                3.263000  \n",
       "25%                 99.000000          0.988925               19.463000  \n",
       "50%                135.000000          0.991495               22.763000  \n",
       "75%                169.000000          0.995045               26.063000  \n",
       "max                360.000000          1.014510               32.963000  "
      ]
     },
     "execution_count": 36,
     "metadata": {},
     "output_type": "execute_result"
    }
   ],
   "source": [
    "df.describe()"
   ]
  },
  {
   "cell_type": "code",
   "execution_count": 37,
   "metadata": {},
   "outputs": [
    {
     "data": {
      "text/html": [
       "<div>\n",
       "<style scoped>\n",
       "    .dataframe tbody tr th:only-of-type {\n",
       "        vertical-align: middle;\n",
       "    }\n",
       "\n",
       "    .dataframe tbody tr th {\n",
       "        vertical-align: top;\n",
       "    }\n",
       "\n",
       "    .dataframe thead th {\n",
       "        text-align: right;\n",
       "    }\n",
       "</style>\n",
       "<table border=\"1\" class=\"dataframe\">\n",
       "  <thead>\n",
       "    <tr style=\"text-align: right;\">\n",
       "      <th></th>\n",
       "      <th>System power generated | (kW)</th>\n",
       "      <th>Wind speed | (m/s)</th>\n",
       "      <th>Wind direction | (deg)</th>\n",
       "      <th>Pressure | (atm)</th>\n",
       "      <th>Air temperature | ('C)</th>\n",
       "    </tr>\n",
       "  </thead>\n",
       "  <tbody>\n",
       "    <tr>\n",
       "      <th>System power generated | (kW)</th>\n",
       "      <td>1.000000</td>\n",
       "      <td>0.954760</td>\n",
       "      <td>-0.044963</td>\n",
       "      <td>-0.129611</td>\n",
       "      <td>-0.015646</td>\n",
       "    </tr>\n",
       "    <tr>\n",
       "      <th>Wind speed | (m/s)</th>\n",
       "      <td>0.954760</td>\n",
       "      <td>1.000000</td>\n",
       "      <td>-0.075695</td>\n",
       "      <td>-0.128648</td>\n",
       "      <td>0.005544</td>\n",
       "    </tr>\n",
       "    <tr>\n",
       "      <th>Wind direction | (deg)</th>\n",
       "      <td>-0.044963</td>\n",
       "      <td>-0.075695</td>\n",
       "      <td>1.000000</td>\n",
       "      <td>-0.017397</td>\n",
       "      <td>-0.172115</td>\n",
       "    </tr>\n",
       "    <tr>\n",
       "      <th>Pressure | (atm)</th>\n",
       "      <td>-0.129611</td>\n",
       "      <td>-0.128648</td>\n",
       "      <td>-0.017397</td>\n",
       "      <td>1.000000</td>\n",
       "      <td>-0.605576</td>\n",
       "    </tr>\n",
       "    <tr>\n",
       "      <th>Air temperature | ('C)</th>\n",
       "      <td>-0.015646</td>\n",
       "      <td>0.005544</td>\n",
       "      <td>-0.172115</td>\n",
       "      <td>-0.605576</td>\n",
       "      <td>1.000000</td>\n",
       "    </tr>\n",
       "  </tbody>\n",
       "</table>\n",
       "</div>"
      ],
      "text/plain": [
       "                               System power generated | (kW)  \\\n",
       "System power generated | (kW)                       1.000000   \n",
       "Wind speed | (m/s)                                  0.954760   \n",
       "Wind direction | (deg)                             -0.044963   \n",
       "Pressure | (atm)                                   -0.129611   \n",
       "Air temperature | ('C)                             -0.015646   \n",
       "\n",
       "                               Wind speed | (m/s)  Wind direction | (deg)  \\\n",
       "System power generated | (kW)            0.954760               -0.044963   \n",
       "Wind speed | (m/s)                       1.000000               -0.075695   \n",
       "Wind direction | (deg)                  -0.075695                1.000000   \n",
       "Pressure | (atm)                        -0.128648               -0.017397   \n",
       "Air temperature | ('C)                   0.005544               -0.172115   \n",
       "\n",
       "                               Pressure | (atm)  Air temperature | ('C)  \n",
       "System power generated | (kW)         -0.129611               -0.015646  \n",
       "Wind speed | (m/s)                    -0.128648                0.005544  \n",
       "Wind direction | (deg)                -0.017397               -0.172115  \n",
       "Pressure | (atm)                       1.000000               -0.605576  \n",
       "Air temperature | ('C)                -0.605576                1.000000  "
      ]
     },
     "execution_count": 37,
     "metadata": {},
     "output_type": "execute_result"
    }
   ],
   "source": [
    "df.corr()"
   ]
  },
  {
   "cell_type": "code",
   "execution_count": 38,
   "metadata": {},
   "outputs": [
    {
     "name": "stdout",
     "output_type": "stream",
     "text": [
      "<class 'pandas.core.frame.DataFrame'>\n",
      "Int64Index: 8760 entries, 0 to 8759\n",
      "Data columns (total 6 columns):\n",
      " #   Column                         Non-Null Count  Dtype  \n",
      "---  ------                         --------------  -----  \n",
      " 0   Time stamp                     8760 non-null   object \n",
      " 1   System power generated | (kW)  8760 non-null   float64\n",
      " 2   Wind speed | (m/s)             8760 non-null   float64\n",
      " 3   Wind direction | (deg)         8760 non-null   int64  \n",
      " 4   Pressure | (atm)               8760 non-null   float64\n",
      " 5   Air temperature | ('C)         8760 non-null   float64\n",
      "dtypes: float64(4), int64(1), object(1)\n",
      "memory usage: 479.1+ KB\n"
     ]
    }
   ],
   "source": [
    "df.info()"
   ]
  },
  {
   "cell_type": "code",
   "execution_count": 39,
   "metadata": {},
   "outputs": [
    {
     "data": {
      "text/html": [
       "<div>\n",
       "<style scoped>\n",
       "    .dataframe tbody tr th:only-of-type {\n",
       "        vertical-align: middle;\n",
       "    }\n",
       "\n",
       "    .dataframe tbody tr th {\n",
       "        vertical-align: top;\n",
       "    }\n",
       "\n",
       "    .dataframe thead th {\n",
       "        text-align: right;\n",
       "    }\n",
       "</style>\n",
       "<table border=\"1\" class=\"dataframe\">\n",
       "  <thead>\n",
       "    <tr style=\"text-align: right;\">\n",
       "      <th></th>\n",
       "      <th>Time stamp</th>\n",
       "      <th>System power generated | (kW)</th>\n",
       "      <th>Wind speed | (m/s)</th>\n",
       "      <th>Wind direction | (deg)</th>\n",
       "      <th>Pressure | (atm)</th>\n",
       "      <th>Air temperature | ('C)</th>\n",
       "    </tr>\n",
       "  </thead>\n",
       "  <tbody>\n",
       "    <tr>\n",
       "      <th>0</th>\n",
       "      <td>False</td>\n",
       "      <td>False</td>\n",
       "      <td>False</td>\n",
       "      <td>False</td>\n",
       "      <td>False</td>\n",
       "      <td>False</td>\n",
       "    </tr>\n",
       "    <tr>\n",
       "      <th>1</th>\n",
       "      <td>False</td>\n",
       "      <td>False</td>\n",
       "      <td>False</td>\n",
       "      <td>False</td>\n",
       "      <td>False</td>\n",
       "      <td>False</td>\n",
       "    </tr>\n",
       "    <tr>\n",
       "      <th>2</th>\n",
       "      <td>False</td>\n",
       "      <td>False</td>\n",
       "      <td>False</td>\n",
       "      <td>False</td>\n",
       "      <td>False</td>\n",
       "      <td>False</td>\n",
       "    </tr>\n",
       "    <tr>\n",
       "      <th>3</th>\n",
       "      <td>False</td>\n",
       "      <td>False</td>\n",
       "      <td>False</td>\n",
       "      <td>False</td>\n",
       "      <td>False</td>\n",
       "      <td>False</td>\n",
       "    </tr>\n",
       "    <tr>\n",
       "      <th>4</th>\n",
       "      <td>False</td>\n",
       "      <td>False</td>\n",
       "      <td>False</td>\n",
       "      <td>False</td>\n",
       "      <td>False</td>\n",
       "      <td>False</td>\n",
       "    </tr>\n",
       "    <tr>\n",
       "      <th>...</th>\n",
       "      <td>...</td>\n",
       "      <td>...</td>\n",
       "      <td>...</td>\n",
       "      <td>...</td>\n",
       "      <td>...</td>\n",
       "      <td>...</td>\n",
       "    </tr>\n",
       "    <tr>\n",
       "      <th>8755</th>\n",
       "      <td>False</td>\n",
       "      <td>False</td>\n",
       "      <td>False</td>\n",
       "      <td>False</td>\n",
       "      <td>False</td>\n",
       "      <td>False</td>\n",
       "    </tr>\n",
       "    <tr>\n",
       "      <th>8756</th>\n",
       "      <td>False</td>\n",
       "      <td>False</td>\n",
       "      <td>False</td>\n",
       "      <td>False</td>\n",
       "      <td>False</td>\n",
       "      <td>False</td>\n",
       "    </tr>\n",
       "    <tr>\n",
       "      <th>8757</th>\n",
       "      <td>False</td>\n",
       "      <td>False</td>\n",
       "      <td>False</td>\n",
       "      <td>False</td>\n",
       "      <td>False</td>\n",
       "      <td>False</td>\n",
       "    </tr>\n",
       "    <tr>\n",
       "      <th>8758</th>\n",
       "      <td>False</td>\n",
       "      <td>False</td>\n",
       "      <td>False</td>\n",
       "      <td>False</td>\n",
       "      <td>False</td>\n",
       "      <td>False</td>\n",
       "    </tr>\n",
       "    <tr>\n",
       "      <th>8759</th>\n",
       "      <td>False</td>\n",
       "      <td>False</td>\n",
       "      <td>False</td>\n",
       "      <td>False</td>\n",
       "      <td>False</td>\n",
       "      <td>False</td>\n",
       "    </tr>\n",
       "  </tbody>\n",
       "</table>\n",
       "<p>8760 rows × 6 columns</p>\n",
       "</div>"
      ],
      "text/plain": [
       "      Time stamp  System power generated | (kW)  Wind speed | (m/s)  \\\n",
       "0          False                          False               False   \n",
       "1          False                          False               False   \n",
       "2          False                          False               False   \n",
       "3          False                          False               False   \n",
       "4          False                          False               False   \n",
       "...          ...                            ...                 ...   \n",
       "8755       False                          False               False   \n",
       "8756       False                          False               False   \n",
       "8757       False                          False               False   \n",
       "8758       False                          False               False   \n",
       "8759       False                          False               False   \n",
       "\n",
       "      Wind direction | (deg)  Pressure | (atm)  Air temperature | ('C)  \n",
       "0                      False             False                   False  \n",
       "1                      False             False                   False  \n",
       "2                      False             False                   False  \n",
       "3                      False             False                   False  \n",
       "4                      False             False                   False  \n",
       "...                      ...               ...                     ...  \n",
       "8755                   False             False                   False  \n",
       "8756                   False             False                   False  \n",
       "8757                   False             False                   False  \n",
       "8758                   False             False                   False  \n",
       "8759                   False             False                   False  \n",
       "\n",
       "[8760 rows x 6 columns]"
      ]
     },
     "execution_count": 39,
     "metadata": {},
     "output_type": "execute_result"
    }
   ],
   "source": [
    "df.isnull()"
   ]
  },
  {
   "cell_type": "code",
   "execution_count": 40,
   "metadata": {},
   "outputs": [
    {
     "data": {
      "text/plain": [
       "Time stamp                       0\n",
       "System power generated | (kW)    0\n",
       "Wind speed | (m/s)               0\n",
       "Wind direction | (deg)           0\n",
       "Pressure | (atm)                 0\n",
       "Air temperature | ('C)           0\n",
       "dtype: int64"
      ]
     },
     "execution_count": 40,
     "metadata": {},
     "output_type": "execute_result"
    }
   ],
   "source": [
    "df.isnull().sum()"
   ]
  },
  {
   "cell_type": "code",
   "execution_count": 41,
   "metadata": {},
   "outputs": [],
   "source": [
    "df=df.rename({'Time stamp':'Time_stamp','System power generated | (kW)':'System_power_generated',\n",
    "              'Wind speed | (m/s)':'wind_speed','Wind direction | (deg)':'Wind_direction',\n",
    "              'Pressure | (atm)':'Pressure',\"Air temperature | ('C)\":'Air_temperature'},axis=1)"
   ]
  },
  {
   "cell_type": "code",
   "execution_count": 42,
   "metadata": {},
   "outputs": [
    {
     "data": {
      "text/plain": [
       "Index(['Time_stamp', 'System_power_generated', 'wind_speed', 'Wind_direction',\n",
       "       'Pressure', 'Air_temperature'],\n",
       "      dtype='object')"
      ]
     },
     "execution_count": 42,
     "metadata": {},
     "output_type": "execute_result"
    }
   ],
   "source": [
    "df.columns"
   ]
  },
  {
   "cell_type": "code",
   "execution_count": 43,
   "metadata": {},
   "outputs": [
    {
     "name": "stdout",
     "output_type": "stream",
     "text": [
      "[0.00000e+00 1.42225e-02 1.75584e-01 ... 3.00323e+03 3.00360e+03\n",
      " 3.00401e+03]\n"
     ]
    }
   ],
   "source": [
    "a=df['System_power_generated'].unique()\n",
    "a.sort()\n",
    "print(a)"
   ]
  },
  {
   "cell_type": "code",
   "execution_count": 44,
   "metadata": {},
   "outputs": [
    {
     "name": "stdout",
     "output_type": "stream",
     "text": [
      "Maximum Power Generated by system(kW): 3004.01\n",
      "Minimum Power Generated by system(kW): 0.0\n",
      "Mean of System Power Generated 964.47\n",
      "Median of System Power Generated 693.97\n",
      "Mode of System Power Generated 0.00\n"
     ]
    }
   ],
   "source": [
    "print('Maximum Power Generated by system(kW):',df['System_power_generated'].max())\n",
    "print('Minimum Power Generated by system(kW):',df['System_power_generated'].min())\n",
    "print('Mean of System Power Generated','%.2f'% df['System_power_generated'].mean())\n",
    "print('Median of System Power Generated','%.2f'% df['System_power_generated'].median())\n",
    "print('Mode of System Power Generated','%.2f'% df['System_power_generated'].mode())"
   ]
  },
  {
   "cell_type": "code",
   "execution_count": 45,
   "metadata": {},
   "outputs": [
    {
     "data": {
      "text/plain": [
       "0       False\n",
       "1       False\n",
       "2       False\n",
       "3       False\n",
       "4       False\n",
       "        ...  \n",
       "8755    False\n",
       "8756    False\n",
       "8757    False\n",
       "8758    False\n",
       "8759    False\n",
       "Length: 8760, dtype: bool"
      ]
     },
     "execution_count": 45,
     "metadata": {},
     "output_type": "execute_result"
    }
   ],
   "source": [
    "df.duplicated()"
   ]
  },
  {
   "cell_type": "code",
   "execution_count": 46,
   "metadata": {},
   "outputs": [
    {
     "data": {
      "text/plain": [
       "0"
      ]
     },
     "execution_count": 46,
     "metadata": {},
     "output_type": "execute_result"
    }
   ],
   "source": [
    "sum(df.duplicated())"
   ]
  },
  {
   "cell_type": "code",
   "execution_count": null,
   "metadata": {},
   "outputs": [],
   "source": []
  }
 ],
 "metadata": {
  "kernelspec": {
   "display_name": "Python 3",
   "language": "python",
   "name": "python3"
  },
  "language_info": {
   "codemirror_mode": {
    "name": "ipython",
    "version": 3
   },
   "file_extension": ".py",
   "mimetype": "text/x-python",
   "name": "python",
   "nbconvert_exporter": "python",
   "pygments_lexer": "ipython3",
   "version": "3.8.5"
  }
 },
 "nbformat": 4,
 "nbformat_minor": 5
}
